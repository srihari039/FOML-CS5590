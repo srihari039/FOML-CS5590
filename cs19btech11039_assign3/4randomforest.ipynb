{
  "nbformat": 4,
  "nbformat_minor": 0,
  "metadata": {
    "colab": {
      "name": "rt.ipynb",
      "provenance": [],
      "collapsed_sections": []
    },
    "kernelspec": {
      "display_name": "Python 3 (ipykernel)",
      "language": "python",
      "name": "python3"
    },
    "language_info": {
      "codemirror_mode": {
        "name": "ipython",
        "version": 3
      },
      "file_extension": ".py",
      "mimetype": "text/x-python",
      "name": "python",
      "nbconvert_exporter": "python",
      "pygments_lexer": "ipython3",
      "version": "3.8.10"
    }
  },
  "cells": [
    {
      "cell_type": "markdown",
      "metadata": {
        "id": "3bAdf9Po9rCr"
      },
      "source": [
        "**Importing all the libraries and reading the data**"
      ]
    },
    {
      "cell_type": "code",
      "metadata": {
        "id": "pp0qRI3xwVFu"
      },
      "source": [
        "# importing all the required libraries\n",
        "import numpy as np\n",
        "import pandas as pd\n",
        "import csv\n",
        "import random\n",
        "import math\n",
        "import time\n",
        "import matplotlib\n",
        "\n",
        "# importing test-train split\n",
        "from sklearn.model_selection import train_test_split\n",
        "\n",
        "# importing measuring attributes\n",
        "from sklearn.metrics import accuracy_score\n",
        "from sklearn.metrics import recall_score\n",
        "\n",
        "# reading and loading the data\n",
        "data_url = \"https://web.stanford.edu/~hastie/ElemStatLearn//datasets/spam.data\"\n",
        "train_data = pd.read_csv(data_url,header=None,delim_whitespace=True)\n",
        "train_data = np.array(train_data)"
      ],
      "execution_count": 3,
      "outputs": []
    },
    {
      "cell_type": "markdown",
      "metadata": {
        "id": "zbMs2oGd95ix"
      },
      "source": [
        "**Classes for Decision Node and Tree Node**"
      ]
    },
    {
      "cell_type": "code",
      "metadata": {
        "id": "NosDxcqxxpAD"
      },
      "source": [
        "# Decision node\n",
        "# Contains Index of split, threshold, information gain, left sub tree, right sub tree\n",
        "class decisionNode():\n",
        "    def __init__ (self, splitObj, leftNode = None, rightNode = None):\n",
        "        self.fIndex = splitObj.get(\"fIndex\")\n",
        "        self.threshold = splitObj.get(\"threshold\")\n",
        "        self.informationGain = splitObj.get(\"informationGain\")\n",
        "        self.left = leftNode\n",
        "        self.right = rightNode\n",
        "        self.isLeaf = False\n",
        "\n",
        "# leaf Node\n",
        "# Contains only value as it is the leaf\n",
        "class leafNode():\n",
        "    def __init__ (self,value = None):\n",
        "        self.value = value\n",
        "        self.isLeaf = True"
      ],
      "execution_count": 4,
      "outputs": []
    },
    {
      "cell_type": "markdown",
      "metadata": {
        "id": "7nv9Y0tR-DJN"
      },
      "source": [
        "**Class for Decision Tree**"
      ]
    },
    {
      "cell_type": "code",
      "metadata": {
        "id": "DiLMoNRcrqly"
      },
      "source": [
        "# Implement your decision tree below\n",
        "# Decision tree\n",
        "class DecisionTree():\n",
        "      \n",
        "    def __init__(self):\n",
        "        self.reqFeatures = 0\n",
        "\n",
        "    # setting the depth essentially(improvement)\n",
        "    shallowDepth = None\n",
        "    # tree\n",
        "    tree = {}\n",
        "\n",
        "    # Build tree function\n",
        "    def buildTree(self, training_set, curDepth = 0):\n",
        "        \n",
        "        # Abstract the features of the training set\n",
        "        features = training_set[:,:-1]\n",
        "        # print(features,len(features))\n",
        "        # return\n",
        "        # Abrstract the results of the features\n",
        "        result = training_set[:,-1]\n",
        "\n",
        "        # n(number of features)\n",
        "        numberOfFeatures = len(features[0])\n",
        "        # print(curDepth,self.shallowDepth)\n",
        "        # Adding the check to stop the overfitting of the tree\n",
        "        if curDepth <= self.shallowDepth:\n",
        "            # print(\"loading\")\n",
        "            # get the best split\n",
        "            bestSplit = self.getBestSplit(training_set,numberOfFeatures)\n",
        "\n",
        "            # If information Gain of the obtained best split is positive,\n",
        "            # build the left sub tree, right sub tree and return the decision node\n",
        "            # decision node contains, index of classification, threshold value, left tree, right tree, information gain\n",
        "            if bestSplit.get(\"informationGain\"):\n",
        "                # print(bestSplit[\"informationGain\"])\n",
        "                if bestSplit[\"informationGain\"] > 0:\n",
        "                    leftSubtree = self.buildTree(bestSplit[\"leftData\"],curDepth+1)\n",
        "                    rightSubtree = self.buildTree(bestSplit[\"rightData\"],curDepth+1)\n",
        "                    return decisionNode(bestSplit,leftSubtree,rightSubtree)\n",
        "                    \n",
        "        # We keep a leaf in the tree, Either if depth is reached to max depth or else when the\n",
        "        # information gain is 0, then it can be classified easily(only one type of class is present)\n",
        "        \n",
        "        # Returns the key which is repeated max times in the list\n",
        "        resultList = list(result)\n",
        "        return leafNode(max(resultList, key=resultList.count))\n",
        "\n",
        "    # utility function to store the attributes and return a python dictionary\n",
        "    def fitInsplit(self,split={},index=None,threshold=None,gain=None):\n",
        "        split[\"fIndex\"] = index\n",
        "        split[\"threshold\"] = threshold\n",
        "        split[\"informationGain\"] = gain\n",
        "        return split\n",
        "\n",
        "    # get random feature indices from all the indices\n",
        "    def generateRandom(self,total,required):\n",
        "        values = list(range(total))\n",
        "        return random.sample(population=values,k=required)\n",
        "\n",
        "    # get the possible thresholds\n",
        "    def getThreshold(self,mini,maxi):\n",
        "        diff = maxi - mini\n",
        "        samples = 20\n",
        "        thresholds = []\n",
        "        increment = round(diff/samples)\n",
        "        temp = mini\n",
        "        for i in range(samples):\n",
        "            thresholds.append(temp)\n",
        "            temp += increment\n",
        "        return thresholds\n",
        "        \n",
        "    # function to get best split\n",
        "    def getBestSplit(self, training_set, numberOfFeatures):\n",
        "        \n",
        "        # make an empty dictionary\n",
        "        bestSplit = {}\n",
        "        # mark initial gain is negative infinity\n",
        "        infoGain = -float(\"Inf\")\n",
        "        \n",
        "        randomList = self.generateRandom(numberOfFeatures,self.reqFeatures)\n",
        "\n",
        "        # Iterate over the index over the number of features\n",
        "        for index in randomList:\n",
        "\n",
        "            value = training_set[:,index]\n",
        "            possibleThresholds = np.unique(value)\n",
        "\n",
        "            max_value = min_value = training_set[0][index]\n",
        "            \n",
        "            for i in range(len(training_set)):\n",
        "                max_value = max(max_value,training_set[i][index])\n",
        "                min_value = min(min_value,training_set[i][index])\n",
        "                \n",
        "            possibleThresholds = self.getThreshold(min_value,max_value)\n",
        "            \n",
        "            # Iterate over the possible thresholds\n",
        "            for threshold in possibleThresholds:\n",
        "            \n",
        "                # split the data into two, left and right\n",
        "                leftData = []\n",
        "                rightData = []\n",
        "                for row in training_set:\n",
        "                    if row[index] <= threshold:\n",
        "                        leftData.append(row)\n",
        "                    else:\n",
        "                        rightData.append(row)\n",
        "                    # (rightData,leftData)[row[index] <= threshold].append(row)\n",
        "                leftData = np.array(leftData)\n",
        "                rightData = np.array(rightData)\n",
        "\n",
        "                # Compute the information Gain and update the best splits\n",
        "                if len(leftData) and len(rightData):\n",
        "                    y = training_set[:,-1]\n",
        "                    leftY = leftData[:,-1]\n",
        "                    rightY = rightData[:,-1]\n",
        "\n",
        "                    # Computing the information gain\n",
        "                    # presentGain = self.getGiniInformationGain(y,leftY,rightY)\n",
        "                    presentGain = self.getGiniInformationGain(y,leftY,rightY)\n",
        "\n",
        "                    # print(presentGain,infoGain)\n",
        "                    if presentGain >= infoGain:\n",
        "                        bestSplit = self.fitInsplit(bestSplit,index,threshold,infoGain)\n",
        "                        bestSplit[\"leftData\"] = leftData\n",
        "                        bestSplit[\"rightData\"] = rightData\n",
        "                        infoGain = presentGain\n",
        "\n",
        "        return bestSplit\n",
        "\n",
        "    # Gini Index\n",
        "    def getGiniIndex(self, y):\n",
        "        # Initialize gini index with 1\n",
        "        gini = 1\n",
        "        \n",
        "        # calculate the probability of each class present and \n",
        "        # substract the square of it from gini \n",
        "        # It essentially gives the value between 0 and 0.5\n",
        "        if 0 in y:\n",
        "            prob = np.count_nonzero(y == 0) /len(y)\n",
        "            gini -= prob ** 2\n",
        "        if 1 in y:\n",
        "            prob = np.count_nonzero(y == 1) /len(y)\n",
        "            gini -= prob ** 2\n",
        "\n",
        "        # return gini index\n",
        "        return gini\n",
        "    \n",
        "    # Calculating the information gain from Gini Index\n",
        "    def getGiniInformationGain(self, parent, lChild, rChild):\n",
        "        # mark the length of the parent\n",
        "        lenParent = len(parent)\n",
        "        # calculate the gini index of parent\n",
        "        gain = self.getGiniIndex(parent)\n",
        "        # substract the weighted gini index from the gain obtained from parent\n",
        "        gain -= (len(lChild)* self.getGiniIndex(lChild))/lenParent\n",
        "        gain -= (len(rChild)* self.getGiniIndex(rChild))/lenParent\n",
        "        \n",
        "        # return the information gain\n",
        "        return gain\n",
        "\n",
        "    # implement this function\n",
        "    # Function which builds tree\n",
        "    def learn(self, training_set,reqFeatures=None):\n",
        "        # converting it to numpy array for further manipulation\n",
        "        training_data = np.array(training_set)\n",
        "        # noting the shape of data\n",
        "        size,depth = training_data.shape\n",
        "        # assigning the max depth\n",
        "        self.shallowDepth = 6\n",
        "        # Build the tree and store it the tree\n",
        "        self.reqFeatures = reqFeatures if reqFeatures is not None else round(math.sqrt(len(training_set[0])-1))\n",
        "        self.tree = self.buildTree(training_data)\n",
        "        \n",
        "    # implement this function\n",
        "    # Function which classifies based on the features and the existing tree\n",
        "    def classify(self,test_instance,dtree=None):\n",
        "    \n",
        "        # if it is a valid decision node\n",
        "        if dtree:\n",
        "            # if value is a truthy value, return the value\n",
        "            # Decision node has the value attribute as falsy and leaf node has truthy value\n",
        "            if dtree.isLeaf:\n",
        "                # return leaf value\n",
        "                return dtree.value\n",
        "            \n",
        "            # collect the value of test instance at the row, according to the data present in decision node\n",
        "            value = test_instance[dtree.fIndex]\n",
        "\n",
        "            # based on the value, return the answer from left and right sub tree\n",
        "            return self.classify(test_instance,dtree.left) if value <= dtree.threshold \\\n",
        "                else self.classify(test_instance,dtree.right)\n",
        "        \n",
        "        # Just a tweak, not to write other function and not to change the definition of\n",
        "        # classify method given in the resources\n",
        "        else:\n",
        "            dtree = self.tree\n",
        "            return self.classify(test_instance,dtree)\n",
        "        \n"
      ],
      "execution_count": 5,
      "outputs": []
    },
    {
      "cell_type": "markdown",
      "metadata": {
        "id": "Z3NR_DSB-Wxr"
      },
      "source": [
        "**Class for Random Forest**"
      ]
    },
    {
      "cell_type": "code",
      "metadata": {
        "id": "IMxtyu9d-Owa"
      },
      "source": [
        "# random forest class\n",
        "class randomForest():\n",
        "  # constructor with default number of trees set to 10\n",
        "  def __init__(self,numtrees=10):\n",
        "    self.numtrees = numtrees\n",
        "    self.trees = []\n",
        "    self.testingdata = []\n",
        "    self.oobtrees = []\n",
        "\n",
        "  # fit method to train the model with the given data\n",
        "  def fit(self,X,y,reqFeatures=None):\n",
        "    num_built = 0\n",
        "    res = []\n",
        "    # create a new tree every time with some random features\n",
        "    while num_built < self.numtrees:\n",
        "      newDt = DecisionTree()\n",
        "      X_train,X_test,y_train,y_test = train_test_split(X,y,test_size = 0.3)\n",
        "      self.testingdata = ([X_test,y_test])\n",
        "      temp = np.concatenate((X_train, y_train[:,None]),axis=1)\n",
        "      # training method on decision tree\n",
        "      newDt.learn(temp,reqFeatures)\n",
        "      self.trees.append(newDt)\n",
        "      num_built += 1\n",
        "  \n",
        "  # fit and get method to train the model with bootstrapped data\n",
        "  def fit_and_get_OOB(self,X_bootstrap,y_bootstrap,X_oob,y_oob,reqFeatures=None):\n",
        "    num_built = 0\n",
        "    res = []\n",
        "    while num_built < self.numtrees:\n",
        "      newDt = DecisionTree()\n",
        "      y_bootstrap = np.array(y_bootstrap)\n",
        "      y_bootstrap = y_bootstrap.reshape(len(y_bootstrap),)\n",
        "      temp = np.concatenate((X_bootstrap, y_bootstrap[:,None]),axis=1)\n",
        "      newDt.learn(temp,reqFeatures)\n",
        "      self.oobtrees.append(newDt)\n",
        "      num_built += 1\n",
        "    res = self.oobpredict(X_oob,y_oob)\n",
        "    return res\n",
        "\n",
        "  # predict helper\n",
        "  def bagging_predict(self,trees, row):\n",
        "    predictions = [tree.classify(row) for tree in trees]\n",
        "    return max(set(predictions), key=predictions.count)\n",
        "\n",
        "  # predict method\n",
        "  def predict(self):\n",
        "    predictions = [self.bagging_predict(self.trees, row) for row in self.testingdata[0]]\n",
        "    return [accuracy_score(predictions,self.testingdata[1]),recall_score(self.testingdata[1],predictions)]\n",
        "\n",
        "  # prediction on test method\n",
        "  def predicttest(self,X_test,y_test):\n",
        "    predictions = [self.bagging_predict(self.oobtrees, row) for row in X_test]\n",
        "    return accuracy_score(predictions,y_test)\n",
        "\n",
        "  # predicting oob accuracy\n",
        "  def oobpredict(self,X_oob,y_oob):\n",
        "    predictions = [self.bagging_predict(self.oobtrees, row) for row in X_oob]\n",
        "    return accuracy_score(predictions,y_oob)\n"
      ],
      "execution_count": 6,
      "outputs": []
    },
    {
      "cell_type": "markdown",
      "metadata": {
        "id": "RIQS_ROc-esh"
      },
      "source": [
        "**4a. Measuring accuracy on Random Forest**"
      ]
    },
    {
      "cell_type": "code",
      "metadata": {
        "colab": {
          "base_uri": "https://localhost:8080/"
        },
        "id": "hZ1xiaFyzKu9",
        "outputId": "8b0c714d-dad1-4025-824b-73022fec34e6"
      },
      "source": [
        "# 4a\n",
        "\n",
        "# splitting the data into X and y\n",
        "X = train_data[:,:-1]\n",
        "y = train_data[:,-1]\n",
        "# measuring the start time\n",
        "start_time = time.time()\n",
        "# creating and evaluating the model\n",
        "model = randomForest()\n",
        "model.fit(X,y)\n",
        "res = model.predict()\n",
        "print(\"Accuracy score with own random forest : \",res[0])\n",
        "# measuring the time taken\n",
        "print(\"--- Time taken --- %s seconds ---\" % (time.time() - start_time))"
      ],
      "execution_count": 7,
      "outputs": [
        {
          "output_type": "stream",
          "name": "stdout",
          "text": [
            "Accuracy score with own random forest :  0.9029688631426502\n",
            "--- Time taken --- 37.53448295593262 seconds ---\n"
          ]
        }
      ]
    },
    {
      "cell_type": "markdown",
      "metadata": {
        "id": "Ezm2tV7k-3iA"
      },
      "source": [
        "**4a. In built Random Forest**"
      ]
    },
    {
      "cell_type": "code",
      "metadata": {
        "colab": {
          "base_uri": "https://localhost:8080/"
        },
        "id": "Yg5wz94VzFiv",
        "outputId": "6b85923f-d1b1-48ce-e624-d0884cf393ee"
      },
      "source": [
        "# 4a\n",
        "\n",
        "# importing Random Forest Classifier and creating the model\n",
        "from sklearn.ensemble import RandomForestClassifier\n",
        "model = RandomForestClassifier(n_estimators=10,max_features='sqrt',max_depth=6)\n",
        "X_train,X_test,y_train,y_test = train_test_split(X,y,test_size = 0.3)\n",
        "\n",
        "# measuring the time taken and evaluting the time taken\n",
        "start_time = time.time()\n",
        "model.fit(X_train,y_train)\n",
        "print(\"Accuracy score with inbuilt random forest : \",model.score(X_test,y_test))\n",
        "print(\"--- Time taken --- %s seconds ---\" % (time.time() - start_time))"
      ],
      "execution_count": 8,
      "outputs": [
        {
          "output_type": "stream",
          "name": "stdout",
          "text": [
            "Accuracy score with inbuilt random forest :  0.9312092686459088\n",
            "--- Time taken --- 0.052702903747558594 seconds ---\n"
          ]
        }
      ]
    },
    {
      "cell_type": "markdown",
      "metadata": {
        "id": "g5hIPYX3_S6Y"
      },
      "source": [
        "**4b. Exploring Sensitivity**"
      ]
    },
    {
      "cell_type": "code",
      "metadata": {
        "colab": {
          "base_uri": "https://localhost:8080/"
        },
        "id": "WG6ZjAQuzKu_",
        "outputId": "f8bfe5b7-fc2f-4400-d13f-6f622d9c8ff4"
      },
      "source": [
        "# 4b\n",
        "\n",
        "# exploring sensitivity with below number of features\n",
        "features = [5,10,15,20]\n",
        "accuracy = []\n",
        "time_taken = []\n",
        "sensitivity = []\n",
        "\n",
        "# created a model of Random Forest\n",
        "model = randomForest()\n",
        "# loop over number of features\n",
        "for num in features:\n",
        "  # measure the start time\n",
        "  start_time = time.time()\n",
        "  # train the forest\n",
        "  model.fit(X,y,num)\n",
        "  # get accuracy and Sensitivity from the model\n",
        "  temp = model.predict()\n",
        "\n",
        "  # Record the observations\n",
        "  accuracy.append(temp[0])\n",
        "  sensitivity.append(temp[1])\n",
        "  time_taken.append((time.time() - start_time))\n",
        "  print(\"Completed forest with \",num,\" features\")\n",
        "\n",
        "for i in range(len(features)):\n",
        "  print(\"Number of features : \",features[i], \", Accuracy : \",accuracy[i], \", Time taken : \",time_taken[i], \"s, Recall Score : \",sensitivity[i])"
      ],
      "execution_count": 9,
      "outputs": [
        {
          "output_type": "stream",
          "name": "stdout",
          "text": [
            "Completed forest with  5  features\n",
            "Completed forest with  10  features\n",
            "Completed forest with  15  features\n",
            "Completed forest with  20  features\n",
            "Number of features :  5 , Accuracy :  0.8805213613323678 , Time taken :  21.47656774520874 s, Recall Score :  0.7213114754098361\n",
            "Number of features :  10 , Accuracy :  0.9217958001448225 , Time taken :  50.81852197647095 s, Recall Score :  0.8257575757575758\n",
            "Number of features :  15 , Accuracy :  0.9268645908761767 , Time taken :  73.12491822242737 s, Recall Score :  0.8495726495726496\n",
            "Number of features :  20 , Accuracy :  0.9246922519913107 , Time taken :  90.66081619262695 s, Recall Score :  0.8553113553113553\n"
          ]
        }
      ]
    },
    {
      "cell_type": "markdown",
      "metadata": {
        "id": "3tmMeerLABVd"
      },
      "source": [
        "**4b. Visualising Data**"
      ]
    },
    {
      "cell_type": "code",
      "metadata": {
        "colab": {
          "base_uri": "https://localhost:8080/",
          "height": 559
        },
        "id": "XMoJhPgAr7R5",
        "outputId": "eb3e6abe-7838-4c8c-bea2-53a519df9e76"
      },
      "source": [
        "# 4b\n",
        "# printing down the graph for better visualisation\n",
        "import matplotlib.pyplot as plt\n",
        "plt.plot(features,time_taken)\n",
        "plt.title('Features vs Time Taken')\n",
        "plt.xlabel('Features')\n",
        "plt.ylabel('Time Taken in seconds')\n",
        "plt.show()\n",
        "plt.plot(features,accuracy,'r-',label=\"accuracy\")\n",
        "plt.title('Features vs Accuracy/sensitivity')\n",
        "plt.plot(features,sensitivity,'b-',label=\"sensitivity\")\n",
        "plt.ylim = [0.6,1.4]\n",
        "plt.legend(loc=\"best\")\n",
        "plt.show()"
      ],
      "execution_count": 28,
      "outputs": [
        {
          "output_type": "display_data",
          "data": {
            "image/png": "[encoded data removed]",
            "text/plain": [
              "<Figure size 432x288 with 1 Axes>"
            ]
          },
          "metadata": {
            "needs_background": "light"
          }
        },
        {
          "output_type": "display_data",
          "data": {
            "image/png": "[encoded data removed]",
            "text/plain": [
              "<Figure size 432x288 with 1 Axes>"
            ]
          },
          "metadata": {
            "needs_background": "light"
          }
        }
      ]
    },
    {
      "cell_type": "markdown",
      "metadata": {
        "id": "n3lcySSviwVW"
      },
      "source": [
        "**4c. Observing OOB and Test Error**"
      ]
    },
    {
      "cell_type": "code",
      "metadata": {
        "colab": {
          "base_uri": "https://localhost:8080/",
          "height": 557
        },
        "id": "t7Qt9H0pMpE6",
        "outputId": "15fd38d1-4b9f-4df5-934a-986850d199ae"
      },
      "source": [
        "# 4c\n",
        "\n",
        "# class for Out of bag error calculations\n",
        "class oobError:\n",
        "  def __init__ (self,training_set):\n",
        "    self.ooberror = []\n",
        "    self.test_error = []\n",
        "    self.numFeatures = []\n",
        "    self.defFeatures = []\n",
        "    self.forests = []\n",
        "    self.oobsamples = []\n",
        "    self.build(training_set)\n",
        "    self.evaluate()\n",
        "\n",
        "  # get sample method which gives bootstrapped data\n",
        "  def getsample(self,X_train,y_train):\n",
        "    bootstrap_indices = list(np.random.choice(range(len(X_train)), len(X_train), replace = True))\n",
        "    oob_indices = [i for i in range(len(X_train)) if i not in bootstrap_indices]\n",
        "    X_bootstrap = X_train.iloc[bootstrap_indices].values\n",
        "    y_bootstrap = y_train.iloc[bootstrap_indices]\n",
        "    X_oob = X_train.iloc[oob_indices].values\n",
        "    y_oob = y_train.iloc[oob_indices]\n",
        "    return [X_bootstrap, y_bootstrap, X_oob, y_oob]\n",
        "\n",
        "  # build method to set right the forests, number of features and bootstrapped samples\n",
        "  def build(self,training_set):\n",
        "    self.defFeatures = len(training_set[0])\n",
        "    X_train = train_data[:,:-1]\n",
        "    y_train = train_data[:,-1]\n",
        "    for num in range(5,10):\n",
        "      features = round(self.defFeatures/num)\n",
        "      self.numFeatures.append(features)\n",
        "      forest = randomForest()\n",
        "      self.forests.append(forest)\n",
        "      sample = self.getsample(pd.DataFrame(X_train),pd.DataFrame(y_train))\n",
        "      self.oobsamples.append(sample)\n",
        "\n",
        "  # evaluate method trains the model with bootstrapped data, and gets both the OOB error prediction and test error prediction \n",
        "  def evaluate(self):\n",
        "    for i in reversed(range(5)):\n",
        "      print(\"Number of Features : \",self.numFeatures[i])\n",
        "      res = 1-self.forests[i].fit_and_get_OOB(self.oobsamples[i][0],self.oobsamples[i][1],self.oobsamples[i][2],self.oobsamples[i][3])\n",
        "      self.ooberror.append(res)\n",
        "      print(\"OOB error : \", res)\n",
        "      res = 1-self.forests[i].predicttest(X_test,y_test)\n",
        "      print(\"Test error : \", res)\n",
        "      self.test_error.append(res)\n",
        "\n",
        "    # plotting the graph for better visualisation\n",
        "    plt.plot(self.numFeatures,self.ooberror,color='b',label=\"OOB error\")\n",
        "    plt.xlabel(\"Features\")\n",
        "    plt.ylabel(\"Variation\")\n",
        "    # plt.show()\n",
        "\n",
        "    plt.plot(self.numFeatures,self.test_error,color='r',label=\"Test error\")\n",
        "    plt.title(\"Features vs Test error/OOB error\")\n",
        "    plt.xlim([2,20])\n",
        "    plt.ylim = [0.00,0.2]\n",
        "    plt.legend()\n",
        "    plt.show()\n",
        "model = oobError(train_data)\n"
      ],
      "execution_count": 27,
      "outputs": [
        {
          "output_type": "stream",
          "name": "stdout",
          "text": [
            "Number of Features :  6\n",
            "OOB error :  0.09924550203134064\n",
            "Test error :  0.07458363504706733\n",
            "Number of Features :  7\n",
            "OOB error :  0.09994222992489887\n",
            "Test error :  0.07965242577842147\n",
            "Number of Features :  8\n",
            "OOB error :  0.10136336692353287\n",
            "Test error :  0.07965242577842147\n",
            "Number of Features :  10\n",
            "OOB error :  0.11601884570082455\n",
            "Test error :  0.09341057204923964\n",
            "Number of Features :  12\n",
            "OOB error :  0.09723040659988214\n",
            "Test error :  0.07965242577842147\n"
          ]
        },
        {
          "output_type": "display_data",
          "data": {
            "image/png": "[encoded data removed]",
            "text/plain": [
              "<Figure size 432x288 with 1 Axes>"
            ]
          },
          "metadata": {
            "needs_background": "light"
          }
        }
      ]
    }
  ]
}