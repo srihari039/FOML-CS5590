{
  "nbformat": 4,
  "nbformat_minor": 0,
  "metadata": {
    "colab": {
      "name": "logisticregression.ipynb",
      "provenance": [],
      "collapsed_sections": []
    },
    "kernelspec": {
      "name": "python3",
      "display_name": "Python 3"
    },
    "language_info": {
      "name": "python"
    }
  },
  "cells": [
    {
      "cell_type": "markdown",
      "metadata": {
        "id": "As6WILKaDMlU"
      },
      "source": [
        "Imported useful libraries and loaded data"
      ]
    },
    {
      "cell_type": "code",
      "metadata": {
        "id": "g2yg0Dqxv3V5"
      },
      "source": [
        "import numpy as np\n",
        "import pandas as pd\n",
        "import matplotlib.pyplot as plt\n",
        "from sklearn.metrics import accuracy_score\n",
        "from sklearn.model_selection import train_test_split\n",
        "from sklearn.metrics import precision_recall_fscore_support\n",
        "from sklearn.metrics import precision_score\n",
        "from sklearn.metrics import recall_score\n",
        "\n",
        "import warnings\n",
        "warnings.filterwarnings(\"ignore\", category=FutureWarning)\n",
        "\n",
        "X_train = np.array([\n",
        "                    [0.346, 0.780],\n",
        "                    [0.303, 0.439],\n",
        "                    [0.358, 0.729],\n",
        "                    [0.602, 0.863],\n",
        "                    [0.790, 0.753],\n",
        "                    [0.611, 0.965],\n",
        "                    ])\n",
        "y_train = np.array([0, 0, 0, 1, 1, 1])\n",
        "\n",
        "X_test = np.array([\n",
        "                   [0.959, 0.382],\n",
        "                   [0.750, 0.306],\n",
        "                   [0.395, 0.760],\n",
        "                   [0.823, 0.764],\n",
        "                   [0.761, 0.874],\n",
        "                   [0.844, 0.435]\n",
        "                  ])\n",
        "y_test = np.array([0, 0, 0, 1, 1, 1])"
      ],
      "execution_count": 9,
      "outputs": []
    },
    {
      "cell_type": "markdown",
      "metadata": {
        "id": "aBj3smh_DST2"
      },
      "source": [
        "Checking In built regression model"
      ]
    },
    {
      "cell_type": "code",
      "metadata": {
        "id": "52cfUZsKEhwd",
        "colab": {
          "base_uri": "https://localhost:8080/"
        },
        "outputId": "dad43b11-944f-4d34-ffd6-83f2ade40c50"
      },
      "source": [
        "from sklearn.linear_model import LogisticRegression\n",
        "clf = LogisticRegression(random_state=0).fit(X_train, y_train)\n",
        "print(accuracy_score(clf.predict(X_test),y_test))\n",
        "clf"
      ],
      "execution_count": 10,
      "outputs": [
        {
          "output_type": "stream",
          "name": "stdout",
          "text": [
            "0.8333333333333334\n"
          ]
        },
        {
          "output_type": "execute_result",
          "data": {
            "text/plain": [
              "LogisticRegression(random_state=0)"
            ]
          },
          "metadata": {},
          "execution_count": 10
        }
      ]
    },
    {
      "cell_type": "code",
      "metadata": {
        "id": "40_fodK09OlS",
        "colab": {
          "base_uri": "https://localhost:8080/"
        },
        "outputId": "5b912eab-3a30-4ca1-bbed-47678eabcf5b"
      },
      "source": [
        "X_train = pd.DataFrame(X_train)\n",
        "X_test = pd.DataFrame(X_test)\n",
        "y_train = pd.DataFrame(y_train)\n",
        "y_test = pd.DataFrame(y_test)\n",
        "\n",
        "X_train = X_train.values\n",
        "X_test = X_test.values\n",
        "\n",
        "y_train = y_train.values\n",
        "y_test = y_test.values\n",
        "\n",
        "X_train = X_train.T\n",
        "y_train = y_train.reshape(1,X_train.shape[1])\n",
        "\n",
        "X_test = X_test.T\n",
        "y_test = y_test.reshape(1,X_test.shape[1])\n",
        "\n",
        "print(X_train.shape)\n",
        "print(y_train.shape)\n",
        "print(X_test.shape)\n",
        "print(y_test.shape)"
      ],
      "execution_count": 11,
      "outputs": [
        {
          "output_type": "stream",
          "name": "stdout",
          "text": [
            "(2, 6)\n",
            "(1, 6)\n",
            "(2, 6)\n",
            "(1, 6)\n"
          ]
        }
      ]
    },
    {
      "cell_type": "markdown",
      "metadata": {
        "id": "L9JkLbjaDXRc"
      },
      "source": [
        "Logistic Regression class developed on own"
      ]
    },
    {
      "cell_type": "code",
      "metadata": {
        "id": "5jwSLTFQ-QTR"
      },
      "source": [
        "class logisticRegression:\n",
        "    # constructor\n",
        "    def __init__(self,convergence=False):\n",
        "        self.alpha = 0.1\n",
        "        self.costList = []\n",
        "        self.maxIterations = 5000 if not convergence else 5*1e5\n",
        "        self.weights = []\n",
        "        self.bias = 0.00\n",
        "        self.part2_w = None\n",
        "        self.part2_b = None\n",
        "\n",
        "    # sigmoid function\n",
        "    def sigmoid(self,z):\n",
        "        return 1/(1+np.exp(-z))\n",
        "    \n",
        "    # cost function\n",
        "    def costFunction(self,size,y,sigmValue):\n",
        "        median = np.median(sigmValue[sigmValue > 0])\n",
        "        sigmValue[sigmValue == 0] = (1-median)\n",
        "        sigmValue[sigmValue == 1] = median\n",
        "        return (-1/size)*np.sum(y*np.log(sigmValue) + (1-y)*np.log(1-sigmValue))\n",
        "    \n",
        "    # gradient descent\n",
        "    def gradientDescent(self,size,m1,m2):\n",
        "        dW = (1/size)*np.dot(m1,m2)\n",
        "        dB = (1/size)*np.sum(m1)\n",
        "        return dW,dB\n",
        "    \n",
        "    # developed the method but not used anywhere\n",
        "    # helpful for finding out the convergence\n",
        "    def considerableError(self,Wprime,W):\n",
        "        res = Wprime-W\n",
        "        res = [element*element for element in res]\n",
        "        return np.sum(res) < 1e-20\n",
        "    \n",
        "    # fit method\n",
        "    def fit(self,X,y,W,B):\n",
        "        size = X.shape[1]\n",
        "        n = X.shape[0]\n",
        "        iterations = 1\n",
        "        self.weights = W\n",
        "        self.bias = B\n",
        "        \n",
        "        while True:\n",
        "            sigmZ = np.dot(W.T,X) + B \n",
        "            sigmValue = self.sigmoid(sigmZ)\n",
        "            cost = self.costFunction(size,y,sigmValue)\n",
        "            self.costList.append(cost)\n",
        "\n",
        "            dW,dB = self.gradientDescent(size,sigmValue-y,X.T)\n",
        "\n",
        "            W -= self.alpha*dW.T\n",
        "            B -= self.alpha*dB\n",
        "\n",
        "            if iterations >= self.maxIterations:\n",
        "              break\n",
        "\n",
        "            if iterations == 1:\n",
        "              self.part2_w = W.copy()\n",
        "              self.part2_b = B\n",
        "\n",
        "            iterations += 1\n",
        "        \n",
        "        self.weights = W\n",
        "        self.bias = B\n",
        "        return self.costList\n",
        "\n",
        "    # predict method\n",
        "    def predict(self,X_test,y_test,status=False):\n",
        "        z = np.dot(self.weights.T,X_test) + self.bias\n",
        "        a = self.sigmoid(z)\n",
        "        a = a>=0.5\n",
        "        a = np.array(a,dtype='int64')\n",
        "        y_test = np.array(y_test,dtype='int64')\n",
        "\n",
        "        acc = (1 - np.sum(np.absolute(a - y_test))/y_test.shape[1])*100\n",
        "        print(\"Accuracy of the model is : \", round(acc, 10), \"%\")\n",
        "\n",
        "        if status:\n",
        "          print(\"precision = \",precision_score(a,y_test,average='weighted',zero_division=0))\n",
        "          print(\"recall score = \",recall_score(y_test,a,average='weighted',zero_division=0))\n"
      ],
      "execution_count": 12,
      "outputs": []
    },
    {
      "cell_type": "code",
      "metadata": {
        "colab": {
          "base_uri": "https://localhost:8080/",
          "height": 283
        },
        "id": "44bkpEuUN4ar",
        "outputId": "acdb1eb0-de4f-407d-ea84-387147003598"
      },
      "source": [
        "W = np.array([[1.5],[0.5]])\n",
        "\n",
        "model = logisticRegression()\n",
        "costList = model.fit(X_train,y_train,W,-1)\n",
        "plt.plot(np.arange(len(costList)),costList)\n",
        "model.predict(X_test,y_test)"
      ],
      "execution_count": 13,
      "outputs": [
        {
          "output_type": "stream",
          "name": "stdout",
          "text": [
            "Accuracy of the model is :  66.6666666667 %\n"
          ]
        },
        {
          "output_type": "display_data",
          "data": {
            "image/png": "[encoded data removed]",
            "text/plain": [
              "<Figure size 432x288 with 1 Axes>"
            ]
          },
          "metadata": {
            "needs_background": "light"
          }
        }
      ]
    },
    {
      "cell_type": "markdown",
      "metadata": {
        "id": "DFHTQqM_LoxW"
      },
      "source": [
        "5 - B - Part B"
      ]
    },
    {
      "cell_type": "code",
      "metadata": {
        "colab": {
          "base_uri": "https://localhost:8080/"
        },
        "id": "tlf_6Z2zL75E",
        "outputId": "86a6253c-ae07-4985-a702-8b3b53afd8fa"
      },
      "source": [
        "print(\"After One iteration \")\n",
        "print(\"W = \",model.part2_w)\n",
        "print(\"B = \",model.part2_b)"
      ],
      "execution_count": 14,
      "outputs": [
        {
          "output_type": "stream",
          "name": "stdout",
          "text": [
            "After One iteration \n",
            "W =  [[1.50535086]\n",
            " [0.50196867]]\n",
            "B =  -1.0031662597725644\n"
          ]
        }
      ]
    },
    {
      "cell_type": "markdown",
      "metadata": {
        "id": "1XHE7rMeLiKR"
      },
      "source": [
        "5 - B - Part C"
      ]
    },
    {
      "cell_type": "code",
      "metadata": {
        "colab": {
          "base_uri": "https://localhost:8080/",
          "height": 370
        },
        "id": "gakkPx6X96E8",
        "outputId": "ec88b347-878a-425e-db05-d271bd631784"
      },
      "source": [
        "W = np.array([[1.5],[0.5]])\n",
        "\n",
        "model = logisticRegression(True)\n",
        "costList = model.fit(X_train,y_train,W,-1)\n",
        "plt.plot(np.arange(len(costList)),costList)\n",
        "model.predict(X_test,y_test,True)\n",
        "print(\"Final Weights : \",model.weights)\n",
        "print(\"Final Bias : \",model.bias)"
      ],
      "execution_count": 15,
      "outputs": [
        {
          "output_type": "stream",
          "name": "stdout",
          "text": [
            "Accuracy of the model is :  66.6666666667 %\n",
            "precision =  0.6\n",
            "recall score =  1.0\n",
            "Final Weights :  [[42.85263545]\n",
            " [ 9.55973708]]\n",
            "Final Bias :  -28.346038607109172\n"
          ]
        },
        {
          "output_type": "display_data",
          "data": {
            "image/png": "[encoded data removed]",
            "text/plain": [
              "<Figure size 432x288 with 1 Axes>"
            ]
          },
          "metadata": {
            "needs_background": "light"
          }
        }
      ]
    }
  ]
}