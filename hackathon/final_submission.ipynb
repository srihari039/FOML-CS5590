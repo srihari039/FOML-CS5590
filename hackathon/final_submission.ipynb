{
  "nbformat": 4,
  "nbformat_minor": 0,
  "metadata": {
    "colab": {
      "name": "submission.ipynb",
      "provenance": [],
      "collapsed_sections": []
    },
    "kernelspec": {
      "name": "python3",
      "display_name": "Python 3"
    },
    "language_info": {
      "name": "python"
    }
  },
  "cells": [
    {
      "cell_type": "markdown",
      "metadata": {
        "id": "TBR6Y_qDmqTf"
      },
      "source": [
        "Imported important libraries"
      ]
    },
    {
      "cell_type": "code",
      "metadata": {
        "id": "Co8fMTbFI2pc"
      },
      "source": [
        "import numpy as np\n",
        "import pandas as pd\n",
        "from sklearn.metrics import accuracy_score"
      ],
      "execution_count": null,
      "outputs": []
    },
    {
      "cell_type": "markdown",
      "metadata": {
        "id": "IaHPbajTmtJ2"
      },
      "source": [
        "Reading input"
      ]
    },
    {
      "cell_type": "code",
      "metadata": {
        "id": "pgc-MDJSROn3"
      },
      "source": [
        "Train = pd.read_csv('train.csv')\n",
        "Test = pd.read_csv('test.csv')\n",
        "print(Train.shape)\n",
        "print(Test.shape)\n",
        "id_col = Test['Id']"
      ],
      "execution_count": null,
      "outputs": []
    },
    {
      "cell_type": "code",
      "metadata": {
        "id": "aiiUnfOFeG4D"
      },
      "source": [
        "Train.head()"
      ],
      "execution_count": null,
      "outputs": []
    },
    {
      "cell_type": "code",
      "metadata": {
        "id": "rpT-9qw0eMQH"
      },
      "source": [
        "Test.head()"
      ],
      "execution_count": null,
      "outputs": []
    },
    {
      "cell_type": "markdown",
      "metadata": {
        "id": "zgzyZk-dkWqN"
      },
      "source": [
        "Removing columns with NaN value occurences greater than 70%"
      ]
    },
    {
      "cell_type": "code",
      "metadata": {
        "id": "UnwyaN9zFp32"
      },
      "source": [
        "major_null_list = []\n",
        "for i in Train:\n",
        "  if(i != 'Fault'):\n",
        "    X = (Train[i].isna().sum()/len(Train[i]))*100\n",
        "    Y = (Test[i].isna().sum()/len(Test[i]))*100\n",
        "    #print(i,X,Y)\n",
        "    if(X > 70):\n",
        "      major_null_list.append(i)\n",
        "print(major_null_list)\n",
        "Train = Train.drop(columns=major_null_list)\n",
        "Test = Test.drop(columns=major_null_list)"
      ],
      "execution_count": null,
      "outputs": []
    },
    {
      "cell_type": "markdown",
      "metadata": {
        "id": "YB2PkbOsm2lN"
      },
      "source": [
        "Formatted time"
      ]
    },
    {
      "cell_type": "code",
      "metadata": {
        "id": "6iuKHkjlfAEJ"
      },
      "source": [
        "# Given a trial by converting entire time to seconds\n",
        "# Dropping the column gave more accuracy than the normal.\n",
        "\n",
        "\n",
        "# def format_time(df):\n",
        "#   crash_time = df['Crash Date/Time']\n",
        "#   crash_time = [ele[11:] for ele in crash_time]\n",
        "#   crash_time_secs = [int(ele[0:2])*3600+int(ele[3:5])*60+int(ele[6:8]) for ele in crash_time]\n",
        "#   pm = 12*60*60\n",
        "#   pm_am = [pm if ele[-2:] == 'PM' else 0  for ele in crash_time]\n",
        "\n",
        "#   time = [sum(i) for i in zip(crash_time_secs, pm_am)]\n",
        "#   df['time'] = time\n",
        "#   return df\n",
        "\n",
        "# Train = format_time(Train)\n",
        "# Test = format_time(Test)"
      ],
      "execution_count": null,
      "outputs": []
    },
    {
      "cell_type": "markdown",
      "metadata": {
        "id": "8LheeYgikzS6"
      },
      "source": [
        "Handpicked columns(detailed examination) to remove "
      ]
    },
    {
      "cell_type": "code",
      "metadata": {
        "id": "7FFZgyS8eU_f"
      },
      "source": [
        "columns_to_remove = [\"Report Number\",\"Local Case Number\",\"Road Name\",\"Cross-Street Name\",\n",
        "                     \"Person ID\",\"Vehicle ID\",\"Vehicle Make\",\"Vehicle Model\",\"Location\",\"Crash Date/Time\"]\n",
        "\n",
        "\n",
        "Train = Train.drop(columns=columns_to_remove,axis=1)\n",
        "columns_to_remove.append('Id')\n",
        "Test = Test.drop(columns=columns_to_remove,axis=1)\n",
        "\n",
        "print(Train.shape)\n",
        "print(Test.shape)\n"
      ],
      "execution_count": null,
      "outputs": []
    },
    {
      "cell_type": "markdown",
      "metadata": {
        "id": "xKesVf1H7cLU"
      },
      "source": [
        "Using Categorical Imputer"
      ]
    },
    {
      "cell_type": "code",
      "metadata": {
        "id": "CNGgMxKUmN7w"
      },
      "source": [
        "from sklearn_pandas import CategoricalImputer\n",
        "imputer = CategoricalImputer()\n",
        "\n",
        "for label in Train:\n",
        "  Train[label] = imputer.fit_transform(Train[label])\n",
        "  \n",
        "for label in Test:\n",
        "  Test[label] = imputer.fit_transform(Test[label])"
      ],
      "execution_count": null,
      "outputs": []
    },
    {
      "cell_type": "markdown",
      "metadata": {
        "id": "jVscrOprnFNS"
      },
      "source": [
        "Label Encoding"
      ]
    },
    {
      "cell_type": "code",
      "metadata": {
        "id": "n0NCh_aJmWQg"
      },
      "source": [
        "column_labels = Train.columns.values\n",
        "to_encode = []\n",
        "for label in Train:\n",
        "  col = Train[label]\n",
        "  res = all([ isinstance(ele,int) or isinstance(ele,float)  for ele in col])\n",
        "  if not res:\n",
        "    to_encode.append(label)\n",
        "\n",
        "from sklearn.preprocessing import LabelEncoder\n",
        "le = LabelEncoder()\n",
        "for i in to_encode:\n",
        "  Train[i] = le.fit_transform(Train[i])\n",
        "  Test[i] = le.fit_transform(Test[i])"
      ],
      "execution_count": null,
      "outputs": []
    },
    {
      "cell_type": "markdown",
      "metadata": {
        "id": "RsI4B8X_7o3q"
      },
      "source": [
        "Separating Xtrain and ytrain"
      ]
    },
    {
      "cell_type": "code",
      "metadata": {
        "id": "QT8pwg6RmYOV"
      },
      "source": [
        "result = 'Fault'\n",
        "y_train = Train[result]\n",
        "X_train = Train.drop(columns=result)"
      ],
      "execution_count": null,
      "outputs": []
    },
    {
      "cell_type": "markdown",
      "metadata": {
        "id": "pG-VWPSynPsJ"
      },
      "source": [
        "Done with preprocessing"
      ]
    },
    {
      "cell_type": "markdown",
      "metadata": {
        "id": "Dxb4sMgknhvQ"
      },
      "source": [
        "Gradient Boosting classifier 351 estimators lr 0.06 max_depth 7\n"
      ]
    },
    {
      "cell_type": "code",
      "metadata": {
        "id": "TOYMsf4zmhNn"
      },
      "source": [
        "# from sklearn.ensemble import GradientBoostingClassifier\n",
        "# clf = GradientBoostingClassifier(n_estimators=351, learning_rate=0.06,max_depth=7).fit(X_train, y_train)\n",
        "# y_pred = clf.predict(Test)\n",
        "# y1 = y_pred\n",
        "# res = pd.DataFrame()\n",
        "# res['Id'] = id_col\n",
        "# res['Fault'] = y_pred\n",
        "# res.to_csv('submission_gbcbest.csv',index=False)\n",
        "\n",
        "# res.head()\n",
        "# print(\"Gradient Boosting\")"
      ],
      "execution_count": null,
      "outputs": []
    },
    {
      "cell_type": "markdown",
      "metadata": {
        "id": "SAUMYwgxuBM_"
      },
      "source": [
        "Installing Cat Boost"
      ]
    },
    {
      "cell_type": "code",
      "metadata": {
        "id": "0dbN2aFsgh4D"
      },
      "source": [
        "!pip install catboost"
      ],
      "execution_count": null,
      "outputs": []
    },
    {
      "cell_type": "code",
      "metadata": {
        "id": "i8LWdUo5tqJl"
      },
      "source": [
        "from sklearn.model_selection import KFold, StratifiedKFold\n",
        "from catboost import CatBoostClassifier\n",
        "\n",
        "k_testpred = 0\n",
        "k_folds = StratifiedKFold(n_splits = 5)\n",
        "i = 0\n",
        "\n",
        "for train,val in k_folds.split(Train, y_train):\n",
        "  Xp_train,yp_train = X_train.loc[train],y_train.loc[train]\n",
        "  Xp_val,yp_val = X_train.loc[val],y_train.loc[val]\n",
        "  print(\"Fitting %d th fold\"%(i))\n",
        "  \n",
        "  clf = CatBoostClassifier(\n",
        "                        verbose=1000,\n",
        "                        cat_features= to_encode,\n",
        "                        eval_metric=\"Accuracy\",\n",
        "                        loss_function=\"CrossEntropy\",\n",
        "                        od_type=\"Iter\",\n",
        "                        od_wait=300,\n",
        "                        num_boost_round=1800\n",
        "            )\n",
        "  clf.fit(Xp_train,yp_train, eval_set = (Xp_val, yp_val))\n",
        "\n",
        "  print(\"Completed\")\n",
        "  k_testpred += clf.predict_proba(Test)\n",
        "  i += 1\n",
        "\n",
        "kf_final = [np.argmax(i) for i in k_testpred]\n",
        "res = pd.DataFrame()\n",
        "res['Id'] = id_col\n",
        "res['Fault'] = kf_final\n",
        "res.to_csv('submission_cbc.csv',index=False)"
      ],
      "execution_count": null,
      "outputs": []
    },
    {
      "cell_type": "markdown",
      "metadata": {
        "id": "80VcmPpSWimU"
      },
      "source": [
        "XG Booster"
      ]
    },
    {
      "cell_type": "code",
      "metadata": {
        "id": "olpeuC4NWlYz"
      },
      "source": [
        "# import xgboost as xgb\n",
        "# xg_class = xgb.XGBClassifier(n_estimators=300,learning_rate=0.01)\n",
        "# xg_class.fit(X_train,y_train)\n",
        "# y_pred = xg_class.predict(Test)\n",
        "# y2 = y_pred\n",
        "# res = pd.DataFrame()\n",
        "# res['Id'] = id_col\n",
        "\n",
        "# res['Fault'] = y_pred\n",
        "# res.to_csv('submission_25cols_xgb.csv',index=False)\n",
        "\n",
        "# res.head()\n",
        "# print(\"XGBoost classifier\")"
      ],
      "execution_count": null,
      "outputs": []
    },
    {
      "cell_type": "markdown",
      "metadata": {
        "id": "QgeofKNusfmD"
      },
      "source": [
        " RFC"
      ]
    },
    {
      "cell_type": "code",
      "metadata": {
        "id": "tVqAiYbmsC-b"
      },
      "source": [
        "# from sklearn.ensemble import RandomForestClassifier\n",
        "# rfc = RandomForestClassifier()\n",
        "# rfc.fit(X_train,y_train)\n",
        "# print(Test.shape)\n",
        "# y_pred = rfc.predict(Test)\n",
        "# rfcy = y_pred\n",
        "\n",
        "# res = pd.DataFrame()\n",
        "# res['Id'] = id_col\n",
        "\n",
        "# res['Fault'] = y_pred\n",
        "# res.to_csv('submission_rfc.csv',index=False)"
      ],
      "execution_count": null,
      "outputs": []
    }
  ]
}