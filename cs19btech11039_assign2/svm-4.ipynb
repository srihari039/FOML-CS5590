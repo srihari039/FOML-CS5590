{
  "nbformat": 4,
  "nbformat_minor": 0,
  "metadata": {
    "colab": {
      "name": "svm-4.ipynb",
      "provenance": [],
      "collapsed_sections": []
    },
    "kernelspec": {
      "display_name": "Python 3 (ipykernel)",
      "language": "python",
      "name": "python3"
    },
    "language_info": {
      "codemirror_mode": {
        "name": "ipython",
        "version": 3
      },
      "file_extension": ".py",
      "mimetype": "text/x-python",
      "name": "python",
      "nbconvert_exporter": "python",
      "pygments_lexer": "ipython3",
      "version": "3.8.10"
    }
  },
  "cells": [
    {
      "cell_type": "code",
      "metadata": {
        "id": "Xd7hoo218t4F"
      },
      "source": [
        "# importing pandas module and reading all the training and testing data from the URL\n",
        "import pandas as pd\n",
        "train_url = \"http://www.amlbook.com/data/zip/features.train\"\n",
        "test_url = \"http://www.amlbook.com/data/zip/features.test\"\n",
        "colnames = [\"label\",\"f1\",\"f2\"]\n",
        "train_data = pd.read_csv(train_url,names=colnames,header=None,delim_whitespace=True)\n",
        "test_data = pd.read_csv(test_url,names=colnames,header=None,delim_whitespace=True)\n",
        "\n",
        "train_data = pd.DataFrame(train_data)\n",
        "test_data = pd.DataFrame(test_data)\n",
        "\n",
        "# Separating the required labels\n",
        "required_labels = [1,5]\n",
        "train_data = train_data[train_data['label'].isin(required_labels)]\n",
        "test_data = test_data[test_data['label'].isin(required_labels)]\n",
        "\n",
        "# separating the features and labels from training data\n",
        "X_train = train_data[['f1','f2']]\n",
        "y_train = train_data['label']\n",
        "\n",
        "# separating the features and labels from testing data\n",
        "X_test = test_data[['f1','f2']]\n",
        "y_test = test_data['label']"
      ],
      "execution_count": 1,
      "outputs": []
    },
    {
      "cell_type": "code",
      "metadata": {
        "colab": {
          "base_uri": "https://localhost:8080/"
        },
        "id": "Kh72fKaz4RoZ",
        "outputId": "fe4e9adf-7049-4efd-bb2b-271408805694"
      },
      "source": [
        "# 4a\n",
        "# importing SVM modules\n",
        "from sklearn.svm import SVC\n",
        "from sklearn.metrics import accuracy_score\n",
        "\n",
        "# initializing a classifier(linear explicitly mentioned)\n",
        "classifier = SVC(kernel='linear')\n",
        "\n",
        "# using fit to train the model\n",
        "classifier.fit(X_train,y_train.values.ravel())\n",
        "\n",
        "# using predict to classify on the test set\n",
        "predictedY = classifier.predict(X_test)\n",
        "\n",
        "# calculating the attributes\n",
        "print(\"Accuracy score = \",accuracy_score(predictedY,y_test))\n",
        "print(\"support vectors = \",classifier.n_support_)"
      ],
      "execution_count": 7,
      "outputs": [
        {
          "output_type": "stream",
          "name": "stdout",
          "text": [
            "Accuracy score =  0.9787735849056604\n",
            "support vectors =  [14 14]\n"
          ]
        }
      ]
    },
    {
      "cell_type": "code",
      "metadata": {
        "colab": {
          "base_uri": "https://localhost:8080/"
        },
        "id": "o50R3EG4VI6s",
        "outputId": "b3784269-1475-4cb1-f8c3-c70b3bfd7adb"
      },
      "source": [
        "# 4b\n",
        "# case 1: get the first 50 data points\n",
        "X1 = X_train[:50]\n",
        "Y1 = y_train[:50]\n",
        "\n",
        "classifier.fit(X1,Y1.values.ravel())\n",
        "predY = classifier.predict(X_test)\n",
        "print(\"Accuracy score = \",accuracy_score(predY,y_test))\n",
        "print(\"Support vectors : \",classifier.n_support_)\n",
        "\n",
        "# case 2: get the first 100 data points\n",
        "X2 = X_train[:100]\n",
        "Y2 = y_train[:100]\n",
        "\n",
        "classifier.fit(X2,Y2.values.ravel())\n",
        "predY = classifier.predict(X_test)\n",
        "print(\"Accuracy score = \",accuracy_score(predY,y_test))\n",
        "print(\"Support vectors : \",classifier.n_support_)\n",
        "\n",
        "# case 3: get the first 200 data points\n",
        "X3 = X_train[:200]\n",
        "Y3 = y_train[:200]\n",
        "\n",
        "classifier.fit(X3,Y3.values.ravel())\n",
        "predY = classifier.predict(X_test)\n",
        "print(\"Accuracy score = \",accuracy_score(predY,y_test))\n",
        "print(\"Support vectors : \",classifier.n_support_)\n",
        "\n",
        "# case 4: get the first 800 data points\n",
        "X4 = X_train[:800]\n",
        "Y4 = y_train[:800]\n",
        "\n",
        "classifier.fit(X4,Y4.values.ravel())\n",
        "predY = classifier.predict(X_test)\n",
        "print(\"Accuracy score = \",accuracy_score(predY,y_test))\n",
        "print(\"Support vectors : \",classifier.n_support_)"
      ],
      "execution_count": 8,
      "outputs": [
        {
          "output_type": "stream",
          "name": "stdout",
          "text": [
            "Accuracy score =  0.9811320754716981\n",
            "Support vectors :  [1 1]\n",
            "Accuracy score =  0.9811320754716981\n",
            "Support vectors :  [2 2]\n",
            "Accuracy score =  0.9811320754716981\n",
            "Support vectors :  [4 4]\n",
            "Accuracy score =  0.9811320754716981\n",
            "Support vectors :  [7 7]\n"
          ]
        }
      ]
    },
    {
      "cell_type": "code",
      "metadata": {
        "colab": {
          "base_uri": "https://localhost:8080/"
        },
        "id": "6c5cGer4XYHR",
        "outputId": "d3bfc1f1-1587-49cd-8838-5c665b39214a"
      },
      "source": [
        "# 4c\n",
        "# setting the kernel to be polynomial\n",
        "classifier.kernel = 'poly'\n",
        "\n",
        "# training error\n",
        "classifier.fit(X_train,y_train).score(X_train,y_train)\n",
        "# test error is something we did earlier.\n",
        "\n",
        "classifier.coef0 = 1\n",
        "c = [0.0001,0.001,0.01,1]\n",
        "q = [2,5]\n",
        "\n",
        "for C in c:\n",
        "  for degree in q:\n",
        "    classifier.C = C\n",
        "    classifier.degree = degree\n",
        "    print(\"C = \",C,\"Degree = \",degree)\n",
        "    if C == 1:\n",
        "      classifier.fit(X_train,y_train)\n",
        "      predictedY = classifier.predict(X_test)\n",
        "      print(\"Testing Error : \",1-accuracy_score(predictedY,y_test))\n",
        "    elif C == 0.001:\n",
        "      classifier.fit(X_train,y_train)\n",
        "      print(\"Number of support vectors:\",classifier.n_support_)\n",
        "    else:\n",
        "      print(\"Training Error : \",1-classifier.fit(X_train,y_train).score(X_train,y_train))\n",
        "      \n"
      ],
      "execution_count": 4,
      "outputs": [
        {
          "output_type": "stream",
          "name": "stdout",
          "text": [
            "C =  0.0001 Degree =  2\n",
            "Training Error :  0.25368353619474693\n",
            "C =  0.0001 Degree =  5\n",
            "Training Error :  0.018577834721332454\n",
            "C =  0.001 Degree =  2\n",
            "Number of support vectors: [228 228]\n",
            "C =  0.001 Degree =  5\n",
            "Number of support vectors: [36 36]\n",
            "C =  0.01 Degree =  2\n",
            "Training Error :  0.005124919923126248\n",
            "C =  0.01 Degree =  5\n",
            "Training Error :  0.004484304932735439\n",
            "C =  1 Degree =  2\n",
            "Testing Error :  0.021226415094339646\n",
            "C =  1 Degree =  5\n",
            "Testing Error :  0.02358490566037741\n"
          ]
        }
      ]
    },
    {
      "cell_type": "code",
      "metadata": {
        "colab": {
          "base_uri": "https://localhost:8080/"
        },
        "id": "55_9zB-HaV1q",
        "outputId": "5174cf6d-9abd-4540-e776-762b971040d7"
      },
      "source": [
        "# 4d\n",
        "# setting the kernel of the classifier to RBF kernel, kernel is set as given in the question\n",
        "classifier.kernel = 'rbf'\n",
        "# setting the gamma to 1\n",
        "classifier.gamma = 1\n",
        "\n",
        "\n",
        "c = [1e-2, 1e0, 1e2, 1e4, 1e6]\n",
        "\n",
        "for C in c:\n",
        "  classifier.C = C\n",
        "  # training error\n",
        "  print(\"Training error for rbf kernel with C = \",C,\" is \",1-classifier.fit(X_train,y_train).score(X_train,y_train))\n",
        "  # testing error\n",
        "  classifier.fit(X_train,y_train)\n",
        "  predictedY = classifier.predict(X_test)\n",
        "  print(\"Testing error for rbf kernel with C = \",C,\" is \",1-accuracy_score(predictedY,y_test))\n"
      ],
      "execution_count": 5,
      "outputs": [
        {
          "output_type": "stream",
          "name": "stdout",
          "text": [
            "Training error for rbf kernel with C =  0.01  is  0.0038436899423446302\n",
            "Testing error for rbf kernel with C =  0.01  is  0.02358490566037741\n",
            "Training error for rbf kernel with C =  1.0  is  0.004484304932735439\n",
            "Testing error for rbf kernel with C =  1.0  is  0.021226415094339646\n",
            "Training error for rbf kernel with C =  100.0  is  0.0032030749519538215\n",
            "Testing error for rbf kernel with C =  100.0  is  0.018867924528301883\n",
            "Training error for rbf kernel with C =  10000.0  is  0.002562459961563124\n",
            "Testing error for rbf kernel with C =  10000.0  is  0.02358490566037741\n",
            "Training error for rbf kernel with C =  1000000.0  is  0.0006406149903908087\n",
            "Testing error for rbf kernel with C =  1000000.0  is  0.02358490566037741\n"
          ]
        }
      ]
    }
  ]
}