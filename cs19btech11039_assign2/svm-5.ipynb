{
 "cells": [
  {
   "cell_type": "code",
   "execution_count": 1,
   "id": "f11a0c43",
   "metadata": {
    "colab": {
     "base_uri": "https://localhost:8080/",
     "height": 452
    },
    "id": "f11a0c43",
    "outputId": "14d9ee3e-073c-44fb-f87a-1b76c4c2166a"
   },
   "outputs": [],
   "source": [
    "# Reading data using pandas module\n",
    "import pandas as pd\n",
    "train_data = pd.read_csv('gisette_train.data',header = None,delim_whitespace=True)\n",
    "train_labels = pd.read_csv('gisette_train.labels',header=None,delim_whitespace=True)\n",
    "valid_data = pd.read_csv('gisette_valid.data',header=None,delim_whitespace=True)\n",
    "valid_labels = pd.read_csv('gisette_valid.labels',header=None,delim_whitespace=True)"
   ]
  },
  {
   "cell_type": "code",
   "execution_count": 2,
   "id": "41f471e1",
   "metadata": {
    "colab": {
     "base_uri": "https://localhost:8080/",
     "height": 236
    },
    "id": "41f471e1",
    "outputId": "be70cae7-e1f7-4a70-c367-87edc5f53750"
   },
   "outputs": [
    {
     "name": "stdout",
     "output_type": "stream",
     "text": [
      "Training Error :  0.0\n",
      "Support Vectors :  [542 542]\n",
      "Testing Error :  0.02400000000000002\n"
     ]
    }
   ],
   "source": [
    "# importing modules for SVM\n",
    "from sklearn.svm import SVC\n",
    "from sklearn.metrics import accuracy_score\n",
    "\n",
    "# initializing a classifier(linear explicitly mentioned)\n",
    "classifier = SVC(kernel='linear')\n",
    "\n",
    "# train error\n",
    "print(\"Training Error : \",\n",
    "      1-classifier.fit(train_data,train_labels.values.ravel()).score(train_data,train_labels.values.ravel()))\n",
    "print(\"Support Vectors : \",classifier.n_support_)\n",
    "predictedY = classifier.predict(valid_data)\n",
    "print(\"Testing Error : \", 1-accuracy_score(predictedY,valid_labels))\n"
   ]
  },
  {
   "cell_type": "code",
   "execution_count": 3,
   "id": "bc002b10",
   "metadata": {
    "id": "bc002b10",
    "outputId": "504e1441-4908-4fb2-cf13-405fc32754b3"
   },
   "outputs": [
    {
     "name": "stdout",
     "output_type": "stream",
     "text": [
      "Training error :  0.0\n",
      "Testing error :  0.5\n",
      "Number of support vectors :  [3000 3000]\n"
     ]
    }
   ],
   "source": [
    "# kernel is set to rbf and gamma is set to 0.001\n",
    "classifier.kernel = \"rbf\"\n",
    "classifier.gamma = 0.001\n",
    "\n",
    "# Training error calculation\n",
    "print(\"Training error : \",\n",
    "      1-classifier.fit(train_data,train_labels.values.ravel()).score(train_data,train_labels.values.ravel()))\n",
    "\n",
    "# predicting and testing error calculation\n",
    "predictedY = classifier.predict(valid_data)\n",
    "print(\"Testing error : \",1-accuracy_score(predictedY,valid_labels))\n",
    "# number of support vectors\n",
    "print(\"Number of support vectors : \",classifier.n_support_)\n"
   ]
  },
  {
   "cell_type": "code",
   "execution_count": 4,
   "id": "d5a52700",
   "metadata": {
    "id": "d5a52700",
    "outputId": "9f4d7960-1681-47bb-ffad-f4e295163a3b"
   },
   "outputs": [
    {
     "name": "stdout",
     "output_type": "stream",
     "text": [
      "Training error :  0.0\n",
      "Testing error :  0.02100000000000002\n",
      "Number of support vectors :  [817 938]\n"
     ]
    }
   ],
   "source": [
    "# kernel is set to poly, degree to 2 and coef0 to 1\n",
    "classifier.kernel = 'poly'\n",
    "classifier.degree = 2\n",
    "classifier.coef0 = 1\n",
    "\n",
    "# Training error calculation\n",
    "print(\"Training error : \",\n",
    "      1-classifier.fit(train_data,train_labels.values.ravel()).score(train_data,train_labels.values.ravel()))\n",
    "\n",
    "# predicting and testing error calculation\n",
    "predictedY = classifier.predict(valid_data)\n",
    "print(\"Testing error : \",1-accuracy_score(predictedY,valid_labels))\n",
    "# number of support vectors\n",
    "print(\"Number of support vectors : \",classifier.n_support_)"
   ]
  }
 ],
 "metadata": {
  "colab": {
   "name": "svm5.ipynb",
   "provenance": []
  },
  "kernelspec": {
   "display_name": "Python 3 (ipykernel)",
   "language": "python",
   "name": "python3"
  },
  "language_info": {
   "codemirror_mode": {
    "name": "ipython",
    "version": 3
   },
   "file_extension": ".py",
   "mimetype": "text/x-python",
   "name": "python",
   "nbconvert_exporter": "python",
   "pygments_lexer": "ipython3",
   "version": "3.8.10"
  }
 },
 "nbformat": 4,
 "nbformat_minor": 5
}
